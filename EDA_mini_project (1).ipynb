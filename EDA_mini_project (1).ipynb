{
 "cells": [
  {
   "cell_type": "code",
   "execution_count": 1,
   "metadata": {
    "colab": {
     "base_uri": "https://localhost:8080/"
    },
    "id": "5lEp8AKgMMOv",
    "outputId": "e432d789-f852-4911-c1d2-f2845422555a"
   },
   "outputs": [
    {
     "name": "stdout",
     "output_type": "stream",
     "text": [
      "done\n"
     ]
    }
   ],
   "source": [
    "import pandas as pd\n",
    "import numpy as np\n",
    "import seaborn as sns\n",
    "import matplotlib.pyplot as plt\n",
    "import warnings\n",
    "warnings.filterwarnings(\"ignore\")\n",
    "print('done')"
   ]
  },
  {
   "cell_type": "code",
   "execution_count": 2,
   "metadata": {
    "colab": {
     "base_uri": "https://localhost:8080/"
    },
    "id": "gcJC1m12NFGJ",
    "outputId": "02da8ebc-1393-4ad1-998c-5af5d0293ebc"
   },
   "outputs": [
    {
     "ename": "FileNotFoundError",
     "evalue": "[Errno 2] File /content/fifa.csv does not exist: '/content/fifa.csv'",
     "output_type": "error",
     "traceback": [
      "\u001b[1;31m---------------------------------------------------------------------------\u001b[0m",
      "\u001b[1;31mFileNotFoundError\u001b[0m                         Traceback (most recent call last)",
      "\u001b[1;32m<ipython-input-2-8a6d2c041ffb>\u001b[0m in \u001b[0;36m<module>\u001b[1;34m\u001b[0m\n\u001b[1;32m----> 1\u001b[1;33m \u001b[0mdf1\u001b[0m\u001b[1;33m=\u001b[0m \u001b[0mpd\u001b[0m\u001b[1;33m.\u001b[0m\u001b[0mread_csv\u001b[0m\u001b[1;33m(\u001b[0m\u001b[1;34m'/content/fifa.csv'\u001b[0m\u001b[1;33m)\u001b[0m \u001b[1;31m# /content/fifa.csv\u001b[0m\u001b[1;33m\u001b[0m\u001b[1;33m\u001b[0m\u001b[0m\n\u001b[0m\u001b[0;32m      2\u001b[0m \u001b[1;31m#df2= pd.read_csv('/content/fifa_+variable_information.csv')\u001b[0m\u001b[1;33m\u001b[0m\u001b[1;33m\u001b[0m\u001b[1;33m\u001b[0m\u001b[0m\n\u001b[0;32m      3\u001b[0m \u001b[0mprint\u001b[0m\u001b[1;33m(\u001b[0m\u001b[0mdf1\u001b[0m\u001b[1;33m.\u001b[0m\u001b[0mshape\u001b[0m\u001b[1;33m)\u001b[0m\u001b[1;33m\u001b[0m\u001b[1;33m\u001b[0m\u001b[0m\n\u001b[0;32m      4\u001b[0m \u001b[1;31m#print(df2.shape)\u001b[0m\u001b[1;33m\u001b[0m\u001b[1;33m\u001b[0m\u001b[1;33m\u001b[0m\u001b[0m\n",
      "\u001b[1;32m~\\Anaconda3\\lib\\site-packages\\pandas\\io\\parsers.py\u001b[0m in \u001b[0;36mparser_f\u001b[1;34m(filepath_or_buffer, sep, delimiter, header, names, index_col, usecols, squeeze, prefix, mangle_dupe_cols, dtype, engine, converters, true_values, false_values, skipinitialspace, skiprows, skipfooter, nrows, na_values, keep_default_na, na_filter, verbose, skip_blank_lines, parse_dates, infer_datetime_format, keep_date_col, date_parser, dayfirst, cache_dates, iterator, chunksize, compression, thousands, decimal, lineterminator, quotechar, quoting, doublequote, escapechar, comment, encoding, dialect, error_bad_lines, warn_bad_lines, delim_whitespace, low_memory, memory_map, float_precision)\u001b[0m\n\u001b[0;32m    674\u001b[0m         )\n\u001b[0;32m    675\u001b[0m \u001b[1;33m\u001b[0m\u001b[0m\n\u001b[1;32m--> 676\u001b[1;33m         \u001b[1;32mreturn\u001b[0m \u001b[0m_read\u001b[0m\u001b[1;33m(\u001b[0m\u001b[0mfilepath_or_buffer\u001b[0m\u001b[1;33m,\u001b[0m \u001b[0mkwds\u001b[0m\u001b[1;33m)\u001b[0m\u001b[1;33m\u001b[0m\u001b[1;33m\u001b[0m\u001b[0m\n\u001b[0m\u001b[0;32m    677\u001b[0m \u001b[1;33m\u001b[0m\u001b[0m\n\u001b[0;32m    678\u001b[0m     \u001b[0mparser_f\u001b[0m\u001b[1;33m.\u001b[0m\u001b[0m__name__\u001b[0m \u001b[1;33m=\u001b[0m \u001b[0mname\u001b[0m\u001b[1;33m\u001b[0m\u001b[1;33m\u001b[0m\u001b[0m\n",
      "\u001b[1;32m~\\Anaconda3\\lib\\site-packages\\pandas\\io\\parsers.py\u001b[0m in \u001b[0;36m_read\u001b[1;34m(filepath_or_buffer, kwds)\u001b[0m\n\u001b[0;32m    446\u001b[0m \u001b[1;33m\u001b[0m\u001b[0m\n\u001b[0;32m    447\u001b[0m     \u001b[1;31m# Create the parser.\u001b[0m\u001b[1;33m\u001b[0m\u001b[1;33m\u001b[0m\u001b[1;33m\u001b[0m\u001b[0m\n\u001b[1;32m--> 448\u001b[1;33m     \u001b[0mparser\u001b[0m \u001b[1;33m=\u001b[0m \u001b[0mTextFileReader\u001b[0m\u001b[1;33m(\u001b[0m\u001b[0mfp_or_buf\u001b[0m\u001b[1;33m,\u001b[0m \u001b[1;33m**\u001b[0m\u001b[0mkwds\u001b[0m\u001b[1;33m)\u001b[0m\u001b[1;33m\u001b[0m\u001b[1;33m\u001b[0m\u001b[0m\n\u001b[0m\u001b[0;32m    449\u001b[0m \u001b[1;33m\u001b[0m\u001b[0m\n\u001b[0;32m    450\u001b[0m     \u001b[1;32mif\u001b[0m \u001b[0mchunksize\u001b[0m \u001b[1;32mor\u001b[0m \u001b[0miterator\u001b[0m\u001b[1;33m:\u001b[0m\u001b[1;33m\u001b[0m\u001b[1;33m\u001b[0m\u001b[0m\n",
      "\u001b[1;32m~\\Anaconda3\\lib\\site-packages\\pandas\\io\\parsers.py\u001b[0m in \u001b[0;36m__init__\u001b[1;34m(self, f, engine, **kwds)\u001b[0m\n\u001b[0;32m    878\u001b[0m             \u001b[0mself\u001b[0m\u001b[1;33m.\u001b[0m\u001b[0moptions\u001b[0m\u001b[1;33m[\u001b[0m\u001b[1;34m\"has_index_names\"\u001b[0m\u001b[1;33m]\u001b[0m \u001b[1;33m=\u001b[0m \u001b[0mkwds\u001b[0m\u001b[1;33m[\u001b[0m\u001b[1;34m\"has_index_names\"\u001b[0m\u001b[1;33m]\u001b[0m\u001b[1;33m\u001b[0m\u001b[1;33m\u001b[0m\u001b[0m\n\u001b[0;32m    879\u001b[0m \u001b[1;33m\u001b[0m\u001b[0m\n\u001b[1;32m--> 880\u001b[1;33m         \u001b[0mself\u001b[0m\u001b[1;33m.\u001b[0m\u001b[0m_make_engine\u001b[0m\u001b[1;33m(\u001b[0m\u001b[0mself\u001b[0m\u001b[1;33m.\u001b[0m\u001b[0mengine\u001b[0m\u001b[1;33m)\u001b[0m\u001b[1;33m\u001b[0m\u001b[1;33m\u001b[0m\u001b[0m\n\u001b[0m\u001b[0;32m    881\u001b[0m \u001b[1;33m\u001b[0m\u001b[0m\n\u001b[0;32m    882\u001b[0m     \u001b[1;32mdef\u001b[0m \u001b[0mclose\u001b[0m\u001b[1;33m(\u001b[0m\u001b[0mself\u001b[0m\u001b[1;33m)\u001b[0m\u001b[1;33m:\u001b[0m\u001b[1;33m\u001b[0m\u001b[1;33m\u001b[0m\u001b[0m\n",
      "\u001b[1;32m~\\Anaconda3\\lib\\site-packages\\pandas\\io\\parsers.py\u001b[0m in \u001b[0;36m_make_engine\u001b[1;34m(self, engine)\u001b[0m\n\u001b[0;32m   1112\u001b[0m     \u001b[1;32mdef\u001b[0m \u001b[0m_make_engine\u001b[0m\u001b[1;33m(\u001b[0m\u001b[0mself\u001b[0m\u001b[1;33m,\u001b[0m \u001b[0mengine\u001b[0m\u001b[1;33m=\u001b[0m\u001b[1;34m\"c\"\u001b[0m\u001b[1;33m)\u001b[0m\u001b[1;33m:\u001b[0m\u001b[1;33m\u001b[0m\u001b[1;33m\u001b[0m\u001b[0m\n\u001b[0;32m   1113\u001b[0m         \u001b[1;32mif\u001b[0m \u001b[0mengine\u001b[0m \u001b[1;33m==\u001b[0m \u001b[1;34m\"c\"\u001b[0m\u001b[1;33m:\u001b[0m\u001b[1;33m\u001b[0m\u001b[1;33m\u001b[0m\u001b[0m\n\u001b[1;32m-> 1114\u001b[1;33m             \u001b[0mself\u001b[0m\u001b[1;33m.\u001b[0m\u001b[0m_engine\u001b[0m \u001b[1;33m=\u001b[0m \u001b[0mCParserWrapper\u001b[0m\u001b[1;33m(\u001b[0m\u001b[0mself\u001b[0m\u001b[1;33m.\u001b[0m\u001b[0mf\u001b[0m\u001b[1;33m,\u001b[0m \u001b[1;33m**\u001b[0m\u001b[0mself\u001b[0m\u001b[1;33m.\u001b[0m\u001b[0moptions\u001b[0m\u001b[1;33m)\u001b[0m\u001b[1;33m\u001b[0m\u001b[1;33m\u001b[0m\u001b[0m\n\u001b[0m\u001b[0;32m   1115\u001b[0m         \u001b[1;32melse\u001b[0m\u001b[1;33m:\u001b[0m\u001b[1;33m\u001b[0m\u001b[1;33m\u001b[0m\u001b[0m\n\u001b[0;32m   1116\u001b[0m             \u001b[1;32mif\u001b[0m \u001b[0mengine\u001b[0m \u001b[1;33m==\u001b[0m \u001b[1;34m\"python\"\u001b[0m\u001b[1;33m:\u001b[0m\u001b[1;33m\u001b[0m\u001b[1;33m\u001b[0m\u001b[0m\n",
      "\u001b[1;32m~\\Anaconda3\\lib\\site-packages\\pandas\\io\\parsers.py\u001b[0m in \u001b[0;36m__init__\u001b[1;34m(self, src, **kwds)\u001b[0m\n\u001b[0;32m   1889\u001b[0m         \u001b[0mkwds\u001b[0m\u001b[1;33m[\u001b[0m\u001b[1;34m\"usecols\"\u001b[0m\u001b[1;33m]\u001b[0m \u001b[1;33m=\u001b[0m \u001b[0mself\u001b[0m\u001b[1;33m.\u001b[0m\u001b[0musecols\u001b[0m\u001b[1;33m\u001b[0m\u001b[1;33m\u001b[0m\u001b[0m\n\u001b[0;32m   1890\u001b[0m \u001b[1;33m\u001b[0m\u001b[0m\n\u001b[1;32m-> 1891\u001b[1;33m         \u001b[0mself\u001b[0m\u001b[1;33m.\u001b[0m\u001b[0m_reader\u001b[0m \u001b[1;33m=\u001b[0m \u001b[0mparsers\u001b[0m\u001b[1;33m.\u001b[0m\u001b[0mTextReader\u001b[0m\u001b[1;33m(\u001b[0m\u001b[0msrc\u001b[0m\u001b[1;33m,\u001b[0m \u001b[1;33m**\u001b[0m\u001b[0mkwds\u001b[0m\u001b[1;33m)\u001b[0m\u001b[1;33m\u001b[0m\u001b[1;33m\u001b[0m\u001b[0m\n\u001b[0m\u001b[0;32m   1892\u001b[0m         \u001b[0mself\u001b[0m\u001b[1;33m.\u001b[0m\u001b[0munnamed_cols\u001b[0m \u001b[1;33m=\u001b[0m \u001b[0mself\u001b[0m\u001b[1;33m.\u001b[0m\u001b[0m_reader\u001b[0m\u001b[1;33m.\u001b[0m\u001b[0munnamed_cols\u001b[0m\u001b[1;33m\u001b[0m\u001b[1;33m\u001b[0m\u001b[0m\n\u001b[0;32m   1893\u001b[0m \u001b[1;33m\u001b[0m\u001b[0m\n",
      "\u001b[1;32mpandas\\_libs\\parsers.pyx\u001b[0m in \u001b[0;36mpandas._libs.parsers.TextReader.__cinit__\u001b[1;34m()\u001b[0m\n",
      "\u001b[1;32mpandas\\_libs\\parsers.pyx\u001b[0m in \u001b[0;36mpandas._libs.parsers.TextReader._setup_parser_source\u001b[1;34m()\u001b[0m\n",
      "\u001b[1;31mFileNotFoundError\u001b[0m: [Errno 2] File /content/fifa.csv does not exist: '/content/fifa.csv'"
     ]
    }
   ],
   "source": [
    "df1= pd.read_csv('/content/fifa.csv') # /content/fifa.csv\n",
    "#df2= pd.read_csv('/content/fifa_+variable_information.csv')\n",
    "print(df1.shape)\n",
    "#print(df2.shape)"
   ]
  },
  {
   "cell_type": "markdown",
   "metadata": {
    "id": "ewI6_AtqPBy8"
   },
   "source": [
    "## 1"
   ]
  },
  {
   "cell_type": "code",
   "execution_count": null,
   "metadata": {
    "colab": {
     "base_uri": "https://localhost:8080/",
     "height": 351
    },
    "id": "v8y3_jb-Ohej",
    "outputId": "0dec4995-5829-44ba-b885-2c12c08f3923"
   },
   "outputs": [],
   "source": [
    "df1.head()"
   ]
  },
  {
   "cell_type": "code",
   "execution_count": null,
   "metadata": {
    "colab": {
     "base_uri": "https://localhost:8080/",
     "height": 197
    },
    "id": "rjJnoJ-0OlOh",
    "outputId": "1db026bc-502f-47a8-a55b-fb11dab37924"
   },
   "outputs": [],
   "source": [
    "df2.head()"
   ]
  },
  {
   "cell_type": "code",
   "execution_count": null,
   "metadata": {
    "colab": {
     "base_uri": "https://localhost:8080/"
    },
    "id": "ZxH7yFGaOoD3",
    "outputId": "a8a692eb-ad52-4987-e9ee-9a5617bf1478"
   },
   "outputs": [],
   "source": [
    "# 2\n",
    "df_n = pd.concat((df1.iloc[:,[0,1,2,4,6,7,8,10,11,12,13,14,15,16,18,22,25,26]], df1.iloc[:, 26:60]), axis=1)\n",
    "df_n.shape"
   ]
  },
  {
   "cell_type": "code",
   "execution_count": null,
   "metadata": {
    "id": "WZQZZKRu_qIB"
   },
   "outputs": [],
   "source": [
    "# 3 - Values\n",
    "import re\n",
    "df_n['Value'] = df_n['Value'].str.replace('€', '')"
   ]
  },
  {
   "cell_type": "code",
   "execution_count": null,
   "metadata": {
    "id": "1zUy_Jd-Mz4a"
   },
   "outputs": [],
   "source": [
    "def clrm(n):\n",
    "  if 'M' in n and '.' in n:\n",
    "    return float(''.join(re.findall('\\d+', n)))*100000\n",
    "  elif 'M' in n and '.' not in n:\n",
    "    return float(''.join(re.findall('\\d+', n)))*1000000\n",
    "  elif 'K' in n and '.' in n:\n",
    "    return float(''.join(re.findall('\\d+', n)))*100\n",
    "  elif 'K' in n and '.' not in n:\n",
    "    return float(''.join(re.findall('\\d+', n)))*1000"
   ]
  },
  {
   "cell_type": "code",
   "execution_count": null,
   "metadata": {
    "id": "8KSOqLrxWke7"
   },
   "outputs": [],
   "source": [
    "\n",
    "df_n['Value']= df_n['Value'].apply(lambda x: clrm(x) if not isinstance(x, float) else x)"
   ]
  },
  {
   "cell_type": "code",
   "execution_count": null,
   "metadata": {
    "id": "DfDBH4HCZ0iT"
   },
   "outputs": [],
   "source": [
    "# Wage\n",
    "df_n['Wage'] = df_n['Wage'].str.replace('€', '')\n",
    "df_n['Wage'] = df_n['Wage'].apply(lambda x: clrm(x) if not isinstance(x, float) else x)"
   ]
  },
  {
   "cell_type": "code",
   "execution_count": null,
   "metadata": {
    "colab": {
     "base_uri": "https://localhost:8080/"
    },
    "id": "5BAHB6Bfbkvq",
    "outputId": "8790336b-7cbe-4bcc-f403-3f7debc52369"
   },
   "outputs": [],
   "source": [
    "# We now know that we have date in this format as well \n",
    "print(max(df1['Joined'], key= lambda x: len(x) if not isinstance(x, float) else 0))\n",
    "\n",
    "# lets see the head\n",
    "df1['Joined'].head()"
   ]
  },
  {
   "cell_type": "code",
   "execution_count": null,
   "metadata": {
    "id": "OQFEIllyhD8w"
   },
   "outputs": [],
   "source": [
    "df1['Joined'] = df1['Joined'].apply(lambda x: int(x.split(' ')[-1]) if not isinstance(x, float) else x)"
   ]
  },
  {
   "cell_type": "code",
   "execution_count": null,
   "metadata": {
    "colab": {
     "base_uri": "https://localhost:8080/"
    },
    "id": "SMG9g1dvbv_w",
    "outputId": "f9d2d6e4-a8fe-446c-982d-0c228d0e79fc"
   },
   "outputs": [],
   "source": [
    "# Sanity check with nan\n",
    "df1['Joined'].isna().sum()"
   ]
  },
  {
   "cell_type": "code",
   "execution_count": null,
   "metadata": {
    "colab": {
     "base_uri": "https://localhost:8080/"
    },
    "id": "SlDS5uZfcG6G",
    "outputId": "23b8587d-a59a-4f25-d6d9-3137cbc9845c"
   },
   "outputs": [],
   "source": [
    "# Contract valid until \n",
    "\n",
    "df_n['Contract Valid Until'].head()"
   ]
  },
  {
   "cell_type": "code",
   "execution_count": null,
   "metadata": {
    "id": "5as_fm_wuLtM"
   },
   "outputs": [],
   "source": [
    "df_n['Contract Valid Until'] = pd.to_datetime(df1['Contract Valid Until'], errors='coerce')"
   ]
  },
  {
   "cell_type": "code",
   "execution_count": null,
   "metadata": {
    "colab": {
     "base_uri": "https://localhost:8080/"
    },
    "id": "92LhI-zHu_G_",
    "outputId": "ecf08064-950e-4721-f75d-7f2e14f71d52"
   },
   "outputs": [],
   "source": [
    "# Height\n",
    "df1['Height'].head()"
   ]
  },
  {
   "cell_type": "code",
   "execution_count": null,
   "metadata": {
    "colab": {
     "base_uri": "https://localhost:8080/"
    },
    "id": "NgvKAqhCvbMQ",
    "outputId": "1c619923-364a-486a-be9f-62e7de0a42a9"
   },
   "outputs": [],
   "source": [
    "df1['Height'].unique()"
   ]
  },
  {
   "cell_type": "code",
   "execution_count": null,
   "metadata": {
    "id": "t4N31vFWvhSr"
   },
   "outputs": [],
   "source": [
    "df_n['Height']= df1['Height'].apply(lambda x: float('.'.join(x.split(\"'\"))) if not isinstance(x, float) else x)"
   ]
  },
  {
   "cell_type": "code",
   "execution_count": null,
   "metadata": {
    "colab": {
     "base_uri": "https://localhost:8080/"
    },
    "id": "uwwEeFY4v2wI",
    "outputId": "a67bfd29-6f18-4d36-9092-a97975e01074"
   },
   "outputs": [],
   "source": [
    "# Weight\n",
    "\n",
    "df1['Weight'].head()"
   ]
  },
  {
   "cell_type": "code",
   "execution_count": null,
   "metadata": {
    "id": "yQnIj6wjwxo5"
   },
   "outputs": [],
   "source": [
    "df_n['Weight'] = df1['Weight'].apply(lambda x: float(x[:-3]) if not isinstance(x, float) else x)"
   ]
  },
  {
   "cell_type": "code",
   "execution_count": null,
   "metadata": {
    "colab": {
     "base_uri": "https://localhost:8080/"
    },
    "id": "pEwQ0zuk442a",
    "outputId": "24f8465d-43a9-4432-d398-374ec2a5ba72"
   },
   "outputs": [],
   "source": [
    "# Release clause\n",
    "\n",
    "df_n['Release Clause'].head()"
   ]
  },
  {
   "cell_type": "code",
   "execution_count": null,
   "metadata": {
    "id": "m5fBQkDO8b7d"
   },
   "outputs": [],
   "source": [
    "df_n['Release Clause']= df_n['Release Clause'].apply(lambda x: clrm(x) if not isinstance(x, float) else x)"
   ]
  },
  {
   "cell_type": "code",
   "execution_count": null,
   "metadata": {
    "colab": {
     "base_uri": "https://localhost:8080/"
    },
    "id": "06Dx9gXy9U2t",
    "outputId": "070a8999-7994-4658-ac67-7b2583592b3c"
   },
   "outputs": [],
   "source": [
    "df_n['Release Clause'].isna().sum()"
   ]
  },
  {
   "cell_type": "code",
   "execution_count": null,
   "metadata": {
    "id": "MGY4j1_A9fcj"
   },
   "outputs": [],
   "source": [
    "# mean imputations\n",
    "\n",
    "for i in df_n.select_dtypes(include='number'):\n",
    "  df_n[i] = df_n[i].fillna(df_n[i].mean())"
   ]
  },
  {
   "cell_type": "code",
   "execution_count": null,
   "metadata": {
    "colab": {
     "base_uri": "https://localhost:8080/",
     "height": 296
    },
    "id": "uaxseFtM_CWi",
    "outputId": "eb4fac95-eec9-4c2a-d37d-acbfc0d89919"
   },
   "outputs": [],
   "source": [
    "# overall ratings\n",
    "\n",
    "sns.distplot(df1['Overall'])"
   ]
  },
  {
   "cell_type": "code",
   "execution_count": null,
   "metadata": {
    "colab": {
     "base_uri": "https://localhost:8080/"
    },
    "id": "thqQxLrF_f_U",
    "outputId": "323a221d-a757-4ec2-b09e-0e7ef3fa2ec7"
   },
   "outputs": [],
   "source": [
    "df1['Overall'].skew()"
   ]
  },
  {
   "cell_type": "code",
   "execution_count": null,
   "metadata": {
    "colab": {
     "base_uri": "https://localhost:8080/",
     "height": 296
    },
    "id": "pdK5SD_BO2Gn",
    "outputId": "c5fd03d8-11bf-4ee5-82e8-4e8126a46aa1"
   },
   "outputs": [],
   "source": [
    "#1\n",
    "sns.boxplot(df1['Overall'])"
   ]
  },
  {
   "cell_type": "code",
   "execution_count": null,
   "metadata": {
    "id": "T9C7u5TB_nwo"
   },
   "outputs": [],
   "source": [
    "# right skewed distribution\n",
    "# most players are in 70-80 ratings\n",
    "# few in 90-95 ratings"
   ]
  },
  {
   "cell_type": "code",
   "execution_count": null,
   "metadata": {
    "id": "KRItYT-7PQLB"
   },
   "outputs": [],
   "source": [
    "r= ['Overall', 'Value', 'Wage', 'International Reputation', 'Height', 'Weight', 'Release Clause']"
   ]
  },
  {
   "cell_type": "code",
   "execution_count": null,
   "metadata": {
    "colab": {
     "base_uri": "https://localhost:8080/",
     "height": 1000
    },
    "id": "0F_z2nabPQNx",
    "outputId": "bddd91ac-37db-4e48-bd9f-884eb7755df5"
   },
   "outputs": [],
   "source": [
    "#2\n",
    "sns.pairplot(df_n[r])"
   ]
  },
  {
   "cell_type": "code",
   "execution_count": null,
   "metadata": {
    "id": "pMV8pJPiPQP0"
   },
   "outputs": [],
   "source": [
    "#3\n",
    "\n",
    "av= df_n.loc[(df_n['Contract Valid Until'] == '2020-01-01T00:00:00.000000000')].sort_values(by='Overall', ascending=False)[:20]"
   ]
  },
  {
   "cell_type": "code",
   "execution_count": null,
   "metadata": {
    "colab": {
     "base_uri": "https://localhost:8080/",
     "height": 334
    },
    "id": "3mlVimyqPQS-",
    "outputId": "ee680649-c256-4a70-f1db-510a25a31b44"
   },
   "outputs": [],
   "source": [
    "av.head()"
   ]
  },
  {
   "cell_type": "code",
   "execution_count": null,
   "metadata": {
    "colab": {
     "base_uri": "https://localhost:8080/"
    },
    "id": "MfJ425x3PQVu",
    "outputId": "0a6590ec-b720-4722-bb69-8e945f26c5e9"
   },
   "outputs": [],
   "source": [
    "#3 a\n",
    "av['Wage'].mean()"
   ]
  },
  {
   "cell_type": "code",
   "execution_count": null,
   "metadata": {
    "colab": {
     "base_uri": "https://localhost:8080/"
    },
    "id": "J1JbOj9LPQYL",
    "outputId": "16703332-b340-4bee-e4ec-e622e1a5db8e"
   },
   "outputs": [],
   "source": [
    "av['Age'].mean()"
   ]
  },
  {
   "cell_type": "code",
   "execution_count": null,
   "metadata": {
    "colab": {
     "base_uri": "https://localhost:8080/",
     "height": 307
    },
    "id": "zzfDoA_ePQbQ",
    "outputId": "a7f7cc53-20c2-4ae0-a97e-d8e6046d376d"
   },
   "outputs": [],
   "source": [
    "# C\n",
    "sns.regplot(x='Overall', y='Value', data= df_n)"
   ]
  },
  {
   "cell_type": "code",
   "execution_count": null,
   "metadata": {
    "id": "qj87mpmBT8xF"
   },
   "outputs": [],
   "source": [
    "# Yes there is a strong correlation between value and overall rating"
   ]
  },
  {
   "cell_type": "code",
   "execution_count": null,
   "metadata": {
    "id": "gXAxKnc1Uo_u"
   },
   "outputs": [],
   "source": [
    "#4\n",
    "\n",
    "top_5 = {}\n",
    "for i in df_n['Position'].unique():\n",
    "  try:\n",
    "    top_5[i]=list(df_n.sort_values(by=['Overall','Position'], ascending=[False, True]).groupby(df_n['Position']).get_group(i)[:5]['Name'].values)\n",
    "  except KeyError:\n",
    "    pass"
   ]
  },
  {
   "cell_type": "code",
   "execution_count": null,
   "metadata": {
    "colab": {
     "base_uri": "https://localhost:8080/"
    },
    "id": "3vTBjoKRUpCR",
    "outputId": "2026a23e-a5f8-437e-e0b1-a9bd21c5a99b"
   },
   "outputs": [],
   "source": [
    "len(top_5.keys())"
   ]
  },
  {
   "cell_type": "code",
   "execution_count": null,
   "metadata": {
    "colab": {
     "base_uri": "https://localhost:8080/"
    },
    "id": "Z2f71TlXUpE1",
    "outputId": "01f196d9-f98d-42a6-ae5f-f021f949ecaf"
   },
   "outputs": [],
   "source": [
    "len(df_n['Position'].unique())"
   ]
  },
  {
   "cell_type": "code",
   "execution_count": null,
   "metadata": {
    "id": "rZ5PkQ3sUpHH"
   },
   "outputs": [],
   "source": [
    "# We have one less value bcoz of one NaN"
   ]
  },
  {
   "cell_type": "code",
   "execution_count": null,
   "metadata": {
    "colab": {
     "base_uri": "https://localhost:8080/",
     "height": 317
    },
    "id": "B-jOz2xxUpJ3",
    "outputId": "c834c1a6-7697-49b1-eb0f-d4dc6ccc2dd5"
   },
   "outputs": [],
   "source": [
    "df_top_5 = pd.DataFrame(top_5)\n",
    "df_top_5"
   ]
  },
  {
   "cell_type": "code",
   "execution_count": null,
   "metadata": {
    "colab": {
     "base_uri": "https://localhost:8080/",
     "height": 317
    },
    "id": "9LpFvV0wUpVd",
    "outputId": "4269182d-c192-414f-ed54-dff3b70a3a68"
   },
   "outputs": [],
   "source": [
    "#4a\n",
    "\n",
    "df_top_5"
   ]
  },
  {
   "cell_type": "code",
   "execution_count": null,
   "metadata": {
    "id": "_RQZf_dyUpYw"
   },
   "outputs": [],
   "source": [
    "from collections import Counter\n",
    "dl= []\n",
    "for i in top_5.values():\n",
    "  for j in i:\n",
    "    if not isinstance(j, float):\n",
    "      dl.append(j)"
   ]
  },
  {
   "cell_type": "code",
   "execution_count": null,
   "metadata": {
    "colab": {
     "base_uri": "https://localhost:8080/"
    },
    "id": "4s--7QU-UpbR",
    "outputId": "9629e399-d0ff-4eb9-e8e9-1c1767cc2ba0"
   },
   "outputs": [],
   "source": [
    "Counter(dl).most_common()[:2]"
   ]
  },
  {
   "cell_type": "code",
   "execution_count": null,
   "metadata": {
    "id": "UMn8n7aSUpd6"
   },
   "outputs": [],
   "source": [
    "# There are no players being repeated. "
   ]
  },
  {
   "cell_type": "code",
   "execution_count": null,
   "metadata": {
    "id": "_yNug8h-Upfz"
   },
   "outputs": [],
   "source": [
    "# b\n",
    "\n",
    "sal= {}\n",
    "for i in df_top_5.columns:\n",
    "  h= []\n",
    "  for j in df_top_5[i]:\n",
    "    try:\n",
    "      h.append(*df_n.loc[df_n['Name'] == j]['Wage'].values)\n",
    "    except TypeError:\n",
    "      pass\n",
    "  sal[i]= sum(h)"
   ]
  },
  {
   "cell_type": "code",
   "execution_count": null,
   "metadata": {
    "colab": {
     "base_uri": "https://localhost:8080/"
    },
    "id": "sQkrrk4jcHLK",
    "outputId": "4f529ebb-6b65-4074-fbff-9508a0e156fb"
   },
   "outputs": [],
   "source": [
    "# these are the average wage one can expect to pay position wise top 5 players.\n",
    "\n",
    "sal"
   ]
  },
  {
   "cell_type": "code",
   "execution_count": null,
   "metadata": {
    "id": "AtKBgdSydfSZ"
   },
   "outputs": [],
   "source": []
  },
  {
   "cell_type": "code",
   "execution_count": null,
   "metadata": {
    "colab": {
     "base_uri": "https://localhost:8080/"
    },
    "id": "nnsUlw9OdfVj",
    "outputId": "9b09c8b9-26d1-46b5-8372-eb092c2747ed"
   },
   "outputs": [],
   "source": [
    "# sanity check\n",
    "len(sal.keys())"
   ]
  },
  {
   "cell_type": "code",
   "execution_count": null,
   "metadata": {
    "colab": {
     "base_uri": "https://localhost:8080/"
    },
    "id": "u1hmyL7_dfYU",
    "outputId": "ecc2d85a-5cda-4cbd-8ca5-837e3202b142"
   },
   "outputs": [],
   "source": [
    "# Players recommended to the Brussels United FC\n",
    "\n",
    "for i in df_top_5.columns:\n",
    "  print(df_top_5[i][0])"
   ]
  },
  {
   "cell_type": "code",
   "execution_count": null,
   "metadata": {
    "colab": {
     "base_uri": "https://localhost:8080/"
    },
    "id": "3RkRt8EU2yua",
    "outputId": "48349895-4499-4f3e-f86b-aa1997be1136"
   },
   "outputs": [],
   "source": [
    "df_n.shape"
   ]
  },
  {
   "cell_type": "code",
   "execution_count": null,
   "metadata": {
    "id": "WOnOzQ15DL_G"
   },
   "outputs": [],
   "source": []
  }
 ],
 "metadata": {
  "colab": {
   "collapsed_sections": [],
   "name": "EDA_mini_project.ipynb",
   "provenance": []
  },
  "kernelspec": {
   "display_name": "Python 3",
   "language": "python",
   "name": "python3"
  },
  "language_info": {
   "codemirror_mode": {
    "name": "ipython",
    "version": 3
   },
   "file_extension": ".py",
   "mimetype": "text/x-python",
   "name": "python",
   "nbconvert_exporter": "python",
   "pygments_lexer": "ipython3",
   "version": "3.8.3"
  }
 },
 "nbformat": 4,
 "nbformat_minor": 1
}
